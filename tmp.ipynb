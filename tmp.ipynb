{
 "cells": [
  {
   "cell_type": "code",
   "execution_count": null,
   "metadata": {},
   "outputs": [],
   "source": [
    "# determine if the graph files are the same from raw file and the one from Jinzhe\n",
    "def are_files_identical(file1_path, file2_path):\n",
    "    \"\"\"\n",
    "    Check if the contents of two text files are identical.\n",
    "\n",
    "    Parameters:\n",
    "        file1_path (str): The path to the first file.\n",
    "        file2_path (str): The path to the second file.\n",
    "\n",
    "    Returns:\n",
    "        bool: True if the files are identical, False otherwise.\n",
    "    \"\"\"\n",
    "    try:\n",
    "        with open(file1_path, 'r', encoding='utf-8') as file1, open(file2_path, 'r', encoding='utf-8') as file2:\n",
    "            # Read and compare the contents\n",
    "            return file1.read() == file2.read()\n",
    "    except FileNotFoundError as e:\n",
    "        print(f\"Error: {e}\")\n",
    "        return False\n",
    "    except Exception as e:\n",
    "        print(f\"An unexpected error occurred: {e}\")\n",
    "        return False\n",
    "\n",
    "file1 = \"/Users/chenyangwang/Downloads/gene_dataset_onlypheno/triple.txt\"\n",
    "file2 = \"/Users/chenyangwang/Projects/KGRec/data/rice/triple.txt\"\n",
    "print(are_files_identical(file1, file2))\n"
   ]
  }
 ],
 "metadata": {
  "kernelspec": {
   "display_name": "KGRec",
   "language": "python",
   "name": "python3"
  },
  "language_info": {
   "name": "python",
   "version": "3.9.13"
  }
 },
 "nbformat": 4,
 "nbformat_minor": 2
}
