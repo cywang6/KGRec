{
 "cells": [
  {
   "cell_type": "code",
   "execution_count": 1,
   "metadata": {},
   "outputs": [],
   "source": [
    "import pickle\n",
    "\n",
    "with open('../../data/rice2/special_item_scores_epoch_9.pkl', 'rb') as f:\n",
    "    special_item_scores = pickle.load(f)\n",
    "\n",
    "with open('../../data/rice2/top_K_items_epoch_9.pkl', 'rb') as f:\n",
    "    top_K_items = pickle.load(f)\n",
    "\n",
    "entity2id, id2entity, id2pheno, pheno2id = {}, {}, {}, {}\n",
    "with open('../../data/rice2/entity2id.txt', 'r') as f:\n",
    "    for line in f:\n",
    "        entity, idx = line.strip().split('\\t')\n",
    "        entity2id[entity] = int(idx)\n",
    "        id2entity[int(idx)] = entity\n",
    "\n",
    "with open('../../data/rice2/pheno2id.txt', 'r') as f:\n",
    "    for line in f:\n",
    "        pheno, idx = line.strip().split(' ')\n",
    "        id2pheno[int(idx)] = pheno"
   ]
  },
  {
   "cell_type": "code",
   "execution_count": 2,
   "metadata": {},
   "outputs": [
    {
     "name": "stdout",
     "output_type": "stream",
     "text": [
      "34\n",
      "0.9521573963476955\n"
     ]
    }
   ],
   "source": [
    "pheno = 'photoperiod_sensing'\n",
    "# pheno = 'photosynthetic_efficiency'\n",
    "pos_items = set()\n",
    "with open('../../data/rice2/train.txt', 'r') as f:\n",
    "    for line in f:\n",
    "        user, items = line.strip().split(' ')[0], line.strip().split(' ')[1:]\n",
    "        if id2pheno[int(user)] == pheno:\n",
    "            pos_items.update([int(item) for item in items])\n",
    "\n",
    "top_1000_items = top_K_items[pheno]\n",
    "scores, labels = [], []\n",
    "for item in top_1000_items:\n",
    "    scores.append(item[1])\n",
    "    if entity2id[item[0]] in pos_items:  \n",
    "        labels.append(1)\n",
    "    else:\n",
    "        labels.append(0)\n",
    "# count the number of 1 and 0\n",
    "print(sum(labels))\n",
    "# calculate auc\n",
    "from sklearn.metrics import roc_auc_score\n",
    "print(roc_auc_score(labels, scores))"
   ]
  },
  {
   "cell_type": "code",
   "execution_count": 3,
   "metadata": {},
   "outputs": [
    {
     "data": {
      "image/png": "[encoded data removed]",
      "text/plain": [
       "<Figure size 640x480 with 1 Axes>"
      ]
     },
     "metadata": {},
     "output_type": "display_data"
    }
   ],
   "source": [
    "import matplotlib.pyplot as plt\n",
    "# sort the labels based on the scores\n",
    "sorted_labels = [x for _, x in sorted(zip(scores, labels), reverse=True)]\n",
    "# draw a chart. x-axis is the index of the sorted labels, y-axis is the number of 1s in the top k items\n",
    "plt.plot(sorted_labels)\n",
    "plt.show()\n"
   ]
  },
  {
   "cell_type": "code",
   "execution_count": 4,
   "metadata": {},
   "outputs": [],
   "source": [
    "special_item_tuples = []\n",
    "for pheno in special_item_scores:\n",
    "    for gene in special_item_scores[pheno]:\n",
    "        special_item_tuples.append((gene, pheno, special_item_scores[pheno][gene]))\n",
    "special_item_tuples.sort(key=lambda x: x[2], reverse=True)\n",
    "with open('../../data/rice2/candidate_genes.txt', 'w') as f:\n",
    "    f.write('gene phenotype score\\n')\n",
    "    for tuple in special_item_tuples:\n",
    "        f.write(f\"{tuple[0]} {tuple[1]} {tuple[2]}\\n\")\n",
    "for pheno in ['photoperiod_sensing', 'photosynthetic_efficiency']:\n",
    "    # print the top 10000 items\n",
    "    top_items = sorted(top_K_items[pheno], key=lambda x: x[1], reverse=True)[:10000]\n",
    "    with open(f'../../data/rice2/{pheno}_top_10000_genes.txt', 'w') as f:\n",
    "        f.write('gene phenotype score\\n')\n",
    "        for item in top_items:\n",
    "            f.write(f\"{item[0]} {pheno} {item[1]}\\n\")"
   ]
  }
 ],
 "metadata": {
  "kernelspec": {
   "display_name": "KGRec2",
   "language": "python",
   "name": "python3"
  },
  "language_info": {
   "codemirror_mode": {
    "name": "ipython",
    "version": 3
   },
   "file_extension": ".py",
   "mimetype": "text/x-python",
   "name": "python",
   "nbconvert_exporter": "python",
   "pygments_lexer": "ipython3",
   "version": "3.9.7"
  }
 },
 "nbformat": 4,
 "nbformat_minor": 2
}
